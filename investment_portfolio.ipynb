{
 "cells": [
  {
   "cell_type": "code",
   "execution_count": 3,
   "metadata": {},
   "outputs": [],
   "source": [
    "import numpy as np\n",
    "# from scipy.optimize import minimize\n",
    "import yfinance as yf"
   ]
  },
  {
   "cell_type": "code",
   "execution_count": 14,
   "metadata": {},
   "outputs": [],
   "source": [
    "class Portfolio:\n",
    "    def __init__(self, name):\n",
    "        self.name = name\n",
    "        self.positions = []\n",
    "        self.cash = 0.0\n",
    "\n",
    "    def add_position(self, position):\n",
    "        self.positions.append(position)\n",
    "    \n",
    "    def remove_position(self, position):\n",
    "        self.positions.remove(position)\n",
    "    \n",
    "    def update_cash(self, amount):\n",
    "        self.cash += amount\n",
    "    \n",
    "    def get_total_value(self):\n",
    "        total_value = self.cash\n",
    "        for position in self.positions:\n",
    "            total_value += position.get_market_value()\n",
    "        return total_value\n",
    "    \n",
    "    def get_positions(self):\n",
    "        return self.positions\n",
    "    \n",
    "    def get_position(self, asset):\n",
    "        for position in self.positions:\n",
    "            if position.asset == asset:\n",
    "                return position\n",
    "        return None"
   ]
  },
  {
   "cell_type": "code",
   "execution_count": null,
   "metadata": {},
   "outputs": [],
   "source": [
    "class Asset:\n",
    "    def __init__(self, symbol, asset_type):\n",
    "        self.symbol = symbol\n",
    "        self.asset_type = asset_type\n",
    "\n",
    "    def get_symbol(self):\n",
    "        return self.symbol\n",
    "\n",
    "    def get_asset_type(self):\n",
    "        return self.asset_type\n",
    "\n",
    "class Equity(Asset):\n",
    "    def __init__(self, symbol, name, asset_type=\"equity\"):\n",
    "        super().__init__(symbol, name, asset_type)\n",
    "    \n",
    "    def value(self):\n",
    "        return yf.Ticker(self.symbol).info[\"regularMarketPrice\"]\n",
    "    \n",
    "    def historical_value(self, type=\"Adj Close\", period=\"1y\"):\n",
    "        return yf.download(self.symbol, period=period)[type]"
   ]
  },
  {
   "cell_type": "code",
   "execution_count": null,
   "metadata": {},
   "outputs": [],
   "source": [
    "class Position:\n",
    "  def __init__(self, asset, quantity):\n",
    "    self.asset = asset\n",
    "    self.quantity = quantity\n",
    "    \n",
    "    def get_asset(self):\n",
    "        return self.asset\n",
    "    \n",
    "    def get_quantity(self):\n",
    "        return self.quantity\n",
    "    \n",
    "    def set_quantity(self, new_quantity):\n",
    "        self.quantity = new_quantity"
   ]
  },
  {
   "cell_type": "code",
   "execution_count": 16,
   "metadata": {},
   "outputs": [],
   "source": [
    "class MarketData:\n",
    "  def __init__(self, symbol):\n",
    "    self.symbol = symbol\n",
    "  \n",
    "  def get_historical_prices(self, start_date, end_date):\n",
    "    data = yf.download(self.symbol, start=start_date, end=end_date)\n",
    "    return data[\"Close\"]\n",
    "  \n",
    "  def get_latest_price(self):\n",
    "    ticker = yf.Ticker(self.symbol)\n",
    "    data = ticker.history(period=\"1d\")\n",
    "    latest_price = data[\"Close\"].iloc[-1]\n",
    "    return latest_price\n"
   ]
  },
  {
   "cell_type": "code",
   "execution_count": null,
   "metadata": {},
   "outputs": [],
   "source": [
    "class Performance:\n",
    "  def __init__(self, returns):\n",
    "    self.returns = returns\n",
    "  \n",
    "  def calculate_cumulative_returns(self):\n",
    "    cumulative_returns = (1 + self.returns).cumprod() - 1\n",
    "    return cumulative_returns\n",
    "  \n",
    "  def calculate_annualized_returns(self):\n",
    "    total_returns = self.returns.sum()\n",
    "    num_periods = len(self.returns)\n",
    "    annualized_returns = (1 + total_returns) ** (252 / num_periods) - 1\n",
    "    return annualized_returns\n",
    "  \n",
    "  def calculate_volatility(self):\n",
    "    volatility = self.returns.std() * (252 ** 0.5)\n",
    "    return volatility\n",
    "  \n",
    "  def calculate_sharpe_ratio(self, risk_free_rate):\n",
    "    excess_returns = self.returns - risk_free_rate\n",
    "    sharpe_ratio = excess_returns.mean() / excess_returns.std() * (252 ** 0.5)\n",
    "    return sharpe_ratio"
   ]
  },
  {
   "cell_type": "code",
   "execution_count": null,
   "metadata": {},
   "outputs": [],
   "source": [
    "class Risk:\n",
    "  def __init__(self, returns):\n",
    "    self.returns = returns\n",
    "\n",
    "  def calculate_volatility(self):\n",
    "    volatility = np.std(self.returns) * np.sqrt(252)\n",
    "    return volatility\n",
    "\n",
    "  def calculate_beta(self, benchmark_returns):\n",
    "    covariance = np.cov(self.returns, benchmark_returns)[0][1]\n",
    "    benchmark_variance = np.var(benchmark_returns)\n",
    "    beta = covariance / benchmark_variance\n",
    "    return beta"
   ]
  },
  {
   "cell_type": "code",
   "execution_count": null,
   "metadata": {},
   "outputs": [],
   "source": [
    "class BenchmarkIndex:\n",
    "  def __init__(self, symbol, market_data):\n",
    "    self.symbol = symbol\n",
    "    self.market_data = market_data\n",
    "\n",
    "  def get_returns(self, start_date, end_date):\n",
    "    benchmark_returns = self.market_data.get_returns(self.symbol, start_date, end_date)\n",
    "    return benchmark_returns"
   ]
  },
  {
   "cell_type": "code",
   "execution_count": null,
   "metadata": {},
   "outputs": [],
   "source": [
    "class PortfolioOptimiser:\n",
    "  def __init__(self, portfolio, risk_model):\n",
    "    self.portfolio = portfolio\n",
    "    self.risk_model = risk_model\n",
    "\n",
    "  def optimize_weights(self):\n",
    "    # Perform portfolio optimization here\n",
    "    # Access portfolio attributes and risk model for optimization\n",
    "    # Example placeholder code\n",
    "    optimal_weights = [0.25, 0.25, 0.25, 0.25]  # Placeholder example weights\n",
    "    return optimal_weights"
   ]
  },
  {
   "cell_type": "code",
   "execution_count": null,
   "metadata": {},
   "outputs": [],
   "source": [
    "class Trade:\n",
    "  def __init__(self, symbol, quantity, price, timestamp):\n",
    "    self.symbol = symbol\n",
    "    self.quantity = quantity\n",
    "    self.price = price\n",
    "    self.timestamp = timestamp"
   ]
  },
  {
   "cell_type": "code",
   "execution_count": null,
   "metadata": {},
   "outputs": [],
   "source": [
    "class Transaction:\n",
    "  def __init__(self, trade, transaction_type, fees):\n",
    "    self.trade = trade\n",
    "    self.transaction_type = transaction_type\n",
    "    self.fees = fees"
   ]
  },
  {
   "cell_type": "code",
   "execution_count": 30,
   "metadata": {},
   "outputs": [
    {
     "data": {
      "text/plain": [
       "list"
      ]
     },
     "execution_count": 30,
     "metadata": {},
     "output_type": "execute_result"
    }
   ],
   "source": [
    "# Create a yfinance ticker object\n",
    "stock_list = [\"GOOGL\", \"GPN\", \"META\", \"MMM\", \"NESN.SW\", \"NVAX\", \"OCDO.L\", \"ULVR.L\"]\n",
    "\n",
    "# Retrieve the historical price data\n",
    "# historical_data = yf.download(\" \".join(stock_list), period = \"1y\", interval = \"1d\")\n",
    "\n",
    "# historical_data.head()"
   ]
  },
  {
   "cell_type": "code",
   "execution_count": 15,
   "metadata": {},
   "outputs": [
    {
     "name": "stdout",
     "output_type": "stream",
     "text": [
      "[*********************100%***********************]  1 of 1 completed\n"
     ]
    },
    {
     "data": {
      "text/plain": [
       "Date\n",
       "2022-06-13    3749.629883\n",
       "2022-06-14    3735.479980\n",
       "2022-06-15    3789.989990\n",
       "2022-06-16    3666.770020\n",
       "2022-06-17    3674.840088\n",
       "                 ...     \n",
       "2023-06-06    4283.850098\n",
       "2023-06-07    4267.520020\n",
       "2023-06-08    4293.930176\n",
       "2023-06-09    4298.859863\n",
       "2023-06-12    4338.930176\n",
       "Name: Adj Close, Length: 251, dtype: float64"
      ]
     },
     "execution_count": 15,
     "metadata": {},
     "output_type": "execute_result"
    }
   ],
   "source": [
    "snp500 = Equity(\"^GSPC\")\n",
    "snp500.historical_price()"
   ]
  },
  {
   "cell_type": "code",
   "execution_count": 10,
   "metadata": {},
   "outputs": [
    {
     "name": "stdout",
     "output_type": "stream",
     "text": [
      "[*********************100%***********************]  1 of 1 completed\n"
     ]
    },
    {
     "data": {
      "text/plain": [
       "Date\n",
       "2022-06-13    3749.629883\n",
       "2022-06-14    3735.479980\n",
       "2022-06-15    3789.989990\n",
       "2022-06-16    3666.770020\n",
       "2022-06-17    3674.840088\n",
       "Name: Adj Close, dtype: float64"
      ]
     },
     "execution_count": 10,
     "metadata": {},
     "output_type": "execute_result"
    }
   ],
   "source": [
    "benchmark_data = yf.download(\"^GSPC\", period=\"1y\")[\"Adj Close\"]\n",
    "benchmark_data.head()"
   ]
  },
  {
   "cell_type": "code",
   "execution_count": null,
   "metadata": {},
   "outputs": [],
   "source": [
    "# Create an instance of the Portfolio class\n",
    "my_portfolio = Portfolio()\n",
    "\n",
    "# Create instances of the Asset class\n",
    "asset1_returns = [0.05, 0.03, 0.06, 0.01, -0.02]  # Example historical returns for asset1\n",
    "asset2_returns = [0.02, 0.04, 0.01, 0.05, -0.01]  # Example historical returns for asset2\n",
    "\n",
    "asset1 = Equity(\"AAPL\", 10)\n",
    "asset2 = Equity(\"GOOGL\", 5)\n",
    "\n",
    "# Add assets to the portfolio\n",
    "my_portfolio.add_asset(asset1)\n",
    "my_portfolio.add_asset(asset2)\n",
    "\n",
    "# Optimize the allocation of the portfolio\n",
    "my_portfolio.optimize_allocation()\n",
    "\n",
    "# Calculate the total value of the portfolio\n",
    "portfolio_value = my_portfolio.calculate_total_value()\n",
    "print(f\"Portfolio Value: ${portfolio_value}\")\n",
    "\n",
    "# Print the allocation of each asset\n",
    "for asset in my_portfolio.assets:\n",
    "    print(f\"{asset.symbol} Allocation: {asset.allocation}\")\n"
   ]
  },
  {
   "cell_type": "code",
   "execution_count": null,
   "metadata": {},
   "outputs": [],
   "source": []
  }
 ],
 "metadata": {
  "kernelspec": {
   "display_name": "Python 3",
   "language": "python",
   "name": "python3"
  },
  "language_info": {
   "codemirror_mode": {
    "name": "ipython",
    "version": 3
   },
   "file_extension": ".py",
   "mimetype": "text/x-python",
   "name": "python",
   "nbconvert_exporter": "python",
   "pygments_lexer": "ipython3",
   "version": "3.10.11"
  },
  "orig_nbformat": 4
 },
 "nbformat": 4,
 "nbformat_minor": 2
}
