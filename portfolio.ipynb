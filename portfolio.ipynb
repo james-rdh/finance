{
 "cells": [
  {
   "cell_type": "code",
   "execution_count": null,
   "metadata": {},
   "outputs": [],
   "source": [
    "# Run in new virtual environment:\n",
    "# pip install notebook\n",
    "# python -m ipykernel install"
   ]
  },
  {
   "cell_type": "code",
   "execution_count": null,
   "metadata": {},
   "outputs": [],
   "source": [
    "# Run in notebook\n",
    "# %pip install python-dotenv requests"
   ]
  },
  {
   "cell_type": "code",
   "execution_count": 3,
   "metadata": {},
   "outputs": [],
   "source": [
    "# Import libraries\n",
    "import os\n",
    "from dotenv import load_dotenv\n",
    "import requests\n",
    "import json\n",
    "import sqlite3"
   ]
  },
  {
   "cell_type": "code",
   "execution_count": 4,
   "metadata": {},
   "outputs": [],
   "source": [
    "class Portfolio:\n",
    "    def __init__(self):\n",
    "        self.cash_balance = 0\n",
    "        self.positions = {}\n",
    "    \n",
    "    def add_cash(self, cash_amount):\n",
    "        self.cash_balance += cash_amount\n",
    "    \n",
    "    def remove_cash(self, cash_amount):\n",
    "        self.cash_balance -= cash_amount\n",
    "    \n",
    "    def add_position(self, symbol, quantity, purchase_price):\n",
    "        if symbol in self.positions:\n",
    "            self.positions[symbol][\"quantity\"] += quantity\n",
    "            self.positions[symbol][\"average_price\"] = 0 # implement logic\n",
    "        else:\n",
    "            self.positions[symbol] = {\n",
    "                \"quantity\": quantity,\n",
    "                \"average_price\": purchase_price\n",
    "            }\n",
    "        \n",
    "        self.cash_balance -= quantity * purchase_price\n",
    "    \n",
    "    def remove_position(self, symbol, quantity):\n",
    "        if symbol not in self.positions:\n",
    "            raise ValueError(f\"Position {symbol} not found in portfolio.\")\n",
    "\n",
    "        current_quantity = self.positions[symbol][\"quantity\"]\n",
    "        if quantity > current_quantity:\n",
    "            raise ValueError(f\"Cannot remove {quantity} shares of {symbol}. Only {current_quantity} shares are held.\")\n",
    "\n",
    "        if quantity == current_quantity:\n",
    "            del self.positions[symbol]\n",
    "        else:\n",
    "            self.positions[symbol][\"quantity\"] -= quantity\n",
    "            # Here, you'll likely need to adjust the 'purchase_data' \n",
    "            # to reflect the shares being sold. The specific logic will \n",
    "            # depend on your accounting method (e.g., FIFO, LIFO).\n",
    "\n",
    "        # Update cash balance (assuming a sell transaction at current market price)\n",
    "        current_price = self.get_current_price(symbol)  # You'll need to implement this method\n",
    "        self.cash_balance += quantity * current_price\n",
    "\n",
    "    def get_total_value(self):\n",
    "        total_value = self.cash_balance\n",
    "        for symbol in self.positions:\n",
    "            total_value += symbol.quantity * symbol.purchase_data.priceposition()\n",
    "        return total_value"
   ]
  },
  {
   "cell_type": "code",
   "execution_count": 21,
   "metadata": {},
   "outputs": [],
   "source": [
    "class DataHandler:\n",
    "    def __init__(self, data_source = 'Alpha Vantage'):\n",
    "        self.data_source = data_source\n",
    "        load_dotenv()\n",
    "        self.api_key = os.environ.get('ALPHA_VANTAGE_API_KEY')\n",
    "    \n",
    "    def get_last_close(self, symbol):\n",
    "        if self.data_source == 'Alpha Vantage':\n",
    "            base_url = 'https://www.alphavantage.co/query?'\n",
    "            params = {\n",
    "                'function': 'GLOBAL_QUOTE',\n",
    "                'symbol': symbol,\n",
    "                'apikey': self.api_key\n",
    "            }\n",
    "            response = requests.get(base_url, params=params)\n",
    "            price = response.json()[\"Global Quote\"][\"05. price\"]\n",
    "            return price\n",
    "    \n",
    "    def get_historical(self, symbol, start_date, end_date):\n",
    "        if self.data_source == 'Alpha Vantage':\n",
    "            base_url = 'https://www.alphavantage.co/query?'\n",
    "            params = {\n",
    "                'function': 'TIME_SERIES_DAILY',\n",
    "                'symbol': symbol,\n",
    "                'apikey': self.api_key\n",
    "            }\n",
    "            response = requests.get(base_url, params=params)\n",
    "            return response.json()"
   ]
  },
  {
   "cell_type": "code",
   "execution_count": 26,
   "metadata": {},
   "outputs": [],
   "source": [
    "# class PerformanceAnalyser:\n",
    "#     def __init__(self, portfolio):\n",
    "#         self.portfolio = portfolio\n",
    "    \n",
    "#     def calculate_cumulative_returns(self):\n",
    "#         cumulative_returns = (1 + self.returns).cumprod() - 1\n",
    "#         return cumulative_returns\n",
    "    \n",
    "#     def calculate_annualized_returns(self):\n",
    "#         total_returns = self.returns.sum()\n",
    "#         num_periods = len(self.returns)\n",
    "#         annualized_returns = (1 + total_returns) ** (252 / num_periods) - 1\n",
    "#         return annualized_returns\n",
    "    \n",
    "#     def calculate_volatility(self):\n",
    "#         volatility = self.returns.std() * (252 ** 0.5)\n",
    "#         return volatility\n",
    "    \n",
    "#     def calculate_sharpe_ratio(self, risk_free_rate):\n",
    "#         excess_returns = self.returns - risk_free_rate\n",
    "#         sharpe_ratio = excess_returns.mean() / excess_returns.std() * (252 ** 0.5)\n",
    "#         return sharpe_ratio"
   ]
  },
  {
   "cell_type": "code",
   "execution_count": 27,
   "metadata": {},
   "outputs": [],
   "source": [
    "# class RiskAnalyser:\n",
    "#     def __init__(self, portfolio):\n",
    "#         self.portfolio = portfolio\n",
    "\n",
    "#     def calculate_volatility(self):\n",
    "#         volatility = np.std(self.returns) * np.sqrt(252)\n",
    "#         return volatility\n",
    "\n",
    "#     def calculate_beta(self, benchmark_returns):\n",
    "#         covariance = np.cov(self.returns, benchmark_returns)[0][1]\n",
    "#         benchmark_variance = np.var(benchmark_returns)\n",
    "#         beta = covariance / benchmark_variance\n",
    "#         return beta"
   ]
  },
  {
   "cell_type": "code",
   "execution_count": 28,
   "metadata": {},
   "outputs": [],
   "source": [
    "# class PortfolioOptimiser:\n",
    "#   def __init__(self, portfolio, risk_reward):\n",
    "#     self.portfolio = portfolio\n",
    "#     self.risk_reward = risk_reward\n",
    "\n",
    "#   def optimise_weights(self):\n",
    "#     # Perform portfolio optimisation here\n",
    "#     # Access portfolio attributes and risk model for optimisation\n",
    "#     # Example placeholder code\n",
    "#     optimal_weights = [0.25, 0.25, 0.25, 0.25]  # Placeholder example weights\n",
    "#     return optimal_weights"
   ]
  },
  {
   "cell_type": "code",
   "execution_count": 22,
   "metadata": {},
   "outputs": [
    {
     "name": "stdout",
     "output_type": "stream",
     "text": [
      "{'GOOGL': {'quantity': 30, 'average_price': 159.53}, 'MSFT': {'quantity': 10, 'average_price': 404.6}, 'BRK-B': {'quantity': 9, 'average_price': 445.98}, 'ADBE': {'quantity': 3, 'average_price': 516.66}}\n"
     ]
    }
   ],
   "source": [
    "portfolio = Portfolio()\n",
    "\n",
    "assets = {\n",
    "    \"GOOGL\": {\n",
    "        \"shares\": 30,\n",
    "        \"purchase_price\": 159.53\n",
    "    },\n",
    "    \"MSFT\": {\n",
    "        \"shares\": 10,\n",
    "        \"purchase_price\": 404.60\n",
    "    },\n",
    "    \"BRK-B\": {\n",
    "        \"shares\": 9,\n",
    "        \"purchase_price\": 445.98\n",
    "    },\n",
    "    \"ADBE\": {\n",
    "        \"shares\": 3,\n",
    "        \"purchase_price\": 516.66\n",
    "    }\n",
    "}\n",
    "\n",
    "for symbol, data in assets.items():\n",
    "    portfolio.add_position(symbol, data[\"shares\"], data[\"purchase_price\"])\n",
    "    \n",
    "print(portfolio.positions)"
   ]
  },
  {
   "cell_type": "code",
   "execution_count": 23,
   "metadata": {},
   "outputs": [
    {
     "name": "stdout",
     "output_type": "stream",
     "text": [
      "GOOGL : 163.9500\n",
      "MSFT : 428.0200\n",
      "BRK-B : 457.4700\n",
      "ADBE : 515.4800\n"
     ]
    }
   ],
   "source": [
    "data_handler = DataHandler()\n",
    "\n",
    "for symbol in portfolio.positions:\n",
    "    last_close = data_handler.get_last_close(symbol)\n",
    "    print(symbol, \":\", last_close)"
   ]
  },
  {
   "cell_type": "code",
   "execution_count": null,
   "metadata": {},
   "outputs": [],
   "source": [
    "# conn = sqlite3.connect('stock_data.db')\n",
    "# cursor = conn.cursor()"
   ]
  }
 ],
 "metadata": {
  "kernelspec": {
   "display_name": "Python 3",
   "language": "python",
   "name": "python3"
  },
  "language_info": {
   "codemirror_mode": {
    "name": "ipython",
    "version": 3
   },
   "file_extension": ".py",
   "mimetype": "text/x-python",
   "name": "python",
   "nbconvert_exporter": "python",
   "pygments_lexer": "ipython3",
   "version": "3.12.4"
  },
  "orig_nbformat": 4
 },
 "nbformat": 4,
 "nbformat_minor": 2
}
