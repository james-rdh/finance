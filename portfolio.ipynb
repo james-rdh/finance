{
 "cells": [
  {
   "cell_type": "code",
   "execution_count": null,
   "metadata": {},
   "outputs": [],
   "source": [
    "# Install libraries\n",
    "%pip install notebook numpy scipy yfinance pandas"
   ]
  },
  {
   "cell_type": "code",
   "execution_count": 22,
   "metadata": {},
   "outputs": [],
   "source": [
    "# Import libraries\n",
    "import numpy as np\n",
    "from scipy.optimize import minimize\n",
    "import yfinance as yf\n",
    "import pandas as pd"
   ]
  },
  {
   "cell_type": "code",
   "execution_count": 23,
   "metadata": {},
   "outputs": [],
   "source": [
    "class Portfolio:\n",
    "    def __init__(self, name):\n",
    "        self.name = name\n",
    "        self.cash = 0.0\n",
    "        self.positions = {}\n",
    "    \n",
    "    def add_cash(self, cash):\n",
    "        self.cash += cash\n",
    "    \n",
    "    def remove_cash(self, cash):\n",
    "        self.cash -= cash\n",
    "    \n",
    "    def add_position(self, position):\n",
    "        self.positions.append(position)\n",
    "    \n",
    "    def remove_position(self, position):\n",
    "        self.positions.remove(position)\n",
    "    \n",
    "    def get_name(self):\n",
    "        return self.name\n",
    "    \n",
    "    def set_name(self, name):\n",
    "        self.name = name\n",
    "    \n",
    "    def get_cash(self):\n",
    "        return self.cash\n",
    "    \n",
    "    def set_cash(self, cash):\n",
    "        self.cash = cash\n",
    "    \n",
    "    def get_positions(self):\n",
    "        return self.positions\n",
    "    \n",
    "    def set_positions(self, positions):\n",
    "        self.positions = positions\n",
    "    \n",
    "    def get_total_value(self):\n",
    "        total_value = self.cash\n",
    "        for position in self.positions:\n",
    "            total_value += position.get_market_value()\n",
    "        return total_value"
   ]
  },
  {
   "cell_type": "code",
   "execution_count": 24,
   "metadata": {},
   "outputs": [],
   "source": [
    "class Asset:\n",
    "    def __init__(self, ticker, exchange):\n",
    "        self.ticker = ticker\n",
    "        self.exchange = exchange\n",
    "    \n",
    "    def get_ticker(self):\n",
    "        return self.ticker\n",
    "    \n",
    "    def set_ticker(self, ticker):\n",
    "        self.ticker = ticker\n",
    "    \n",
    "    def get_exchange(self):\n",
    "        return self.exchange\n",
    "    \n",
    "    def set_exchange(self, exchange):\n",
    "        self.exchange = exchange"
   ]
  },
  {
   "cell_type": "code",
   "execution_count": 25,
   "metadata": {},
   "outputs": [],
   "source": [
    "class Position:\n",
    "    def __init__(self, asset, quantity):\n",
    "        self.asset = asset\n",
    "        self.quantity = quantity\n",
    "    \n",
    "    def get_asset(self):\n",
    "        return self.asset\n",
    "    \n",
    "    def set_asset(self, asset):\n",
    "        self.asset = asset\n",
    "    \n",
    "    def get_quantity(self):\n",
    "        return self.quantity\n",
    "    \n",
    "    def set_quantity(self, quantity):\n",
    "        self.quantity = quantity"
   ]
  },
  {
   "cell_type": "code",
   "execution_count": 26,
   "metadata": {},
   "outputs": [],
   "source": [
    "class PerformanceAnalyser:\n",
    "    def __init__(self, portfolio):\n",
    "        self.portfolio = portfolio\n",
    "    \n",
    "    def calculate_cumulative_returns(self):\n",
    "        cumulative_returns = (1 + self.returns).cumprod() - 1\n",
    "        return cumulative_returns\n",
    "    \n",
    "    def calculate_annualized_returns(self):\n",
    "        total_returns = self.returns.sum()\n",
    "        num_periods = len(self.returns)\n",
    "        annualized_returns = (1 + total_returns) ** (252 / num_periods) - 1\n",
    "        return annualized_returns\n",
    "    \n",
    "    def calculate_volatility(self):\n",
    "        volatility = self.returns.std() * (252 ** 0.5)\n",
    "        return volatility\n",
    "    \n",
    "    def calculate_sharpe_ratio(self, risk_free_rate):\n",
    "        excess_returns = self.returns - risk_free_rate\n",
    "        sharpe_ratio = excess_returns.mean() / excess_returns.std() * (252 ** 0.5)\n",
    "        return sharpe_ratio"
   ]
  },
  {
   "cell_type": "code",
   "execution_count": 27,
   "metadata": {},
   "outputs": [],
   "source": [
    "class RiskAnalyser:\n",
    "    def __init__(self, portfolio):\n",
    "        self.portfolio = portfolio\n",
    "\n",
    "    def calculate_volatility(self):\n",
    "        volatility = np.std(self.returns) * np.sqrt(252)\n",
    "        return volatility\n",
    "\n",
    "    def calculate_beta(self, benchmark_returns):\n",
    "        covariance = np.cov(self.returns, benchmark_returns)[0][1]\n",
    "        benchmark_variance = np.var(benchmark_returns)\n",
    "        beta = covariance / benchmark_variance\n",
    "        return beta"
   ]
  },
  {
   "cell_type": "code",
   "execution_count": 28,
   "metadata": {},
   "outputs": [],
   "source": [
    "class PortfolioOptimiser:\n",
    "  def __init__(self, portfolio, risk_reward):\n",
    "    self.portfolio = portfolio\n",
    "    self.risk_reward = risk_reward\n",
    "\n",
    "  def optimise_weights(self):\n",
    "    # Perform portfolio optimisation here\n",
    "    # Access portfolio attributes and risk model for optimisation\n",
    "    # Example placeholder code\n",
    "    optimal_weights = [0.25, 0.25, 0.25, 0.25]  # Placeholder example weights\n",
    "    return optimal_weights"
   ]
  },
  {
   "cell_type": "code",
   "execution_count": 32,
   "metadata": {},
   "outputs": [],
   "source": [
    "class DataRetriever:\n",
    "    def __init__(self, data_source):\n",
    "        self.data_source = data_source\n",
    "        self.api_key = None\n",
    "    \n",
    "    def set_api_key(self, api_key):\n",
    "        self.api_key = api_key\n",
    "    \n",
    "    def get_price_data(self, asset):\n",
    "        if self.data_source == \"yfinance\":\n",
    "            return yf.Ticker(asset.ticker)"
   ]
  },
  {
   "cell_type": "code",
   "execution_count": 33,
   "metadata": {},
   "outputs": [
    {
     "name": "stdout",
     "output_type": "stream",
     "text": [
      "{<__main__.Asset object at 0x000001CA61110E30>: yfinance.Ticker object <ADBE>, <__main__.Asset object at 0x000001CA61112C00>: yfinance.Ticker object <MSFT>, <__main__.Asset object at 0x000001CA5E6B7590>: yfinance.Ticker object <GOOGL>, <__main__.Asset object at 0x000001CA6110BBC0>: yfinance.Ticker object <V>, <__main__.Asset object at 0x000001CA611137D0>: yfinance.Ticker object <BRK-B>}\n"
     ]
    }
   ],
   "source": [
    "portfolio = Portfolio(\"My Portfolio\")\n",
    "\n",
    "risk_reward = 1/5\n",
    "\n",
    "assets = {\n",
    "    (\"GOOGL\", \"NASDAQ\"),\n",
    "    (\"MSFT\", \"NASDAQ\"),\n",
    "    (\"BRK-B\", \"NYSE\"),\n",
    "    (\"ADBE\", \"NASDAQ\"),\n",
    "    (\"V\", \"NYSE\")\n",
    "}\n",
    "\n",
    "assets = {\n",
    "  Asset(ticker, exchange) for ticker, exchange in assets\n",
    "}\n",
    "\n",
    "portfolio.positions = {\n",
    "  Position(asset, 1) for asset in assets\n",
    "}\n",
    "\n",
    "data_retriever = DataRetriever(\"yfinance\")\n",
    "historical_data = {}\n",
    "for position in portfolio.positions:\n",
    "  historical_data[position.asset] = data_retriever.get_price_data(position.asset)\n",
    "  \n",
    "# historical_data = yf.download(\" \".join(assets), period = \"1y\", interval = \"1d\")\n",
    "\n",
    "print(historical_data)"
   ]
  }
 ],
 "metadata": {
  "kernelspec": {
   "display_name": "Python 3",
   "language": "python",
   "name": "python3"
  },
  "language_info": {
   "codemirror_mode": {
    "name": "ipython",
    "version": 3
   },
   "file_extension": ".py",
   "mimetype": "text/x-python",
   "name": "python",
   "nbconvert_exporter": "python",
   "pygments_lexer": "ipython3",
   "version": "3.12.4"
  },
  "orig_nbformat": 4
 },
 "nbformat": 4,
 "nbformat_minor": 2
}
